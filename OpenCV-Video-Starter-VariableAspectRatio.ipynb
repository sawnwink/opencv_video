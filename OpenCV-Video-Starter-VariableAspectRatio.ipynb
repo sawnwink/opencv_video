{
 "cells": [
  {
   "cell_type": "code",
   "execution_count": 9,
   "id": "2b4250a0",
   "metadata": {},
   "outputs": [],
   "source": [
    "import cv2\n",
    "import numpy as np\n",
    "\n",
    "cap = cv2.VideoCapture('videos/PER6IX.mp4')\n",
    "\n",
    "while cap.isOpened():\n",
    "    success, frame = cap.read()\n",
    "    if success:\n",
    "        \n",
    "        #percent by which the image is resized\n",
    "        width_scale_percent = 20\n",
    "        height_scale_percent = 50\n",
    "\n",
    "        #calculate the 50 percent of original dimensions\n",
    "        width = int(frame.shape[1] * width_scale_percent / 100)\n",
    "        height = int(frame.shape[0] * height_scale_percent / 100)\n",
    "        \n",
    "\n",
    "        # resize image\n",
    "        dsize = (width, height)\n",
    "        frame = cv2.resize(frame, dsize)\n",
    "      \n",
    "        # you may know which frame you are processing\n",
    "        frameId = int(round(cap.get(1)))\n",
    "\n",
    "        cv2.imshow('Video', frame)\n",
    "        if cv2.waitKey(1) & 0xFF == 27:\n",
    "            break\n",
    "    else:\n",
    "        print(\"Ignoring empty camera frame.\")\n",
    "        break\n",
    "\n",
    "# Closes all the frames\n",
    "cap.release()\n",
    "cv2.destroyAllWindows()"
   ]
  },
  {
   "cell_type": "code",
   "execution_count": null,
   "id": "f48eaed0",
   "metadata": {},
   "outputs": [],
   "source": []
  }
 ],
 "metadata": {
  "kernelspec": {
   "display_name": "Python 3 (ipykernel)",
   "language": "python",
   "name": "python3"
  },
  "language_info": {
   "codemirror_mode": {
    "name": "ipython",
    "version": 3
   },
   "file_extension": ".py",
   "mimetype": "text/x-python",
   "name": "python",
   "nbconvert_exporter": "python",
   "pygments_lexer": "ipython3",
   "version": "3.7.13"
  }
 },
 "nbformat": 4,
 "nbformat_minor": 5
}
