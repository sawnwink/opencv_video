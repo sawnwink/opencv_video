{
 "cells": [
  {
   "cell_type": "code",
   "execution_count": 4,
   "id": "0236a0cb",
   "metadata": {},
   "outputs": [],
   "source": [
    "import cv2\n",
    "import numpy as np\n",
    "import imutils\n",
    "\n",
    "cap = cv2.VideoCapture('videos/PER6IX.mp4')\n",
    "\n",
    "while cap.isOpened():\n",
    "    success, frame = cap.read()\n",
    "    if success:\n",
    "        \n",
    "    #   percent by which the image is resized\n",
    "        scale_percent = 50\n",
    "    #   calculate a percent of original width\n",
    "        width = int(frame.shape[1] * scale_percent / 100)    \n",
    "    #   imutils.resize() keeps the aspect ratio of a picture by specifying either width or height, \n",
    "        frame = imutils.resize(frame, width=width)  \n",
    "\n",
    "      \n",
    "        # you may know which frame you are processing\n",
    "        frameId = int(round(cap.get(1)))\n",
    "\n",
    "        cv2.imshow('Video', frame)\n",
    "        if cv2.waitKey(1) & 0xFF == 27:\n",
    "            break\n",
    "    else:\n",
    "        print(\"Ignoring empty camera frame.\")\n",
    "        break\n",
    "\n",
    "# Closes all the frames\n",
    "cap.release()\n",
    "cv2.destroyAllWindows()"
   ]
  },
  {
   "cell_type": "code",
   "execution_count": null,
   "id": "e5efa326",
   "metadata": {},
   "outputs": [],
   "source": []
  }
 ],
 "metadata": {
  "kernelspec": {
   "display_name": "Python 3 (ipykernel)",
   "language": "python",
   "name": "python3"
  },
  "language_info": {
   "codemirror_mode": {
    "name": "ipython",
    "version": 3
   },
   "file_extension": ".py",
   "mimetype": "text/x-python",
   "name": "python",
   "nbconvert_exporter": "python",
   "pygments_lexer": "ipython3",
   "version": "3.7.13"
  }
 },
 "nbformat": 4,
 "nbformat_minor": 5
}
